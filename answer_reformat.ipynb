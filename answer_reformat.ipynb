{
 "cells": [
  {
   "cell_type": "code",
   "execution_count": null,
   "metadata": {},
   "outputs": [],
   "source": [
    "path = \"/home/ljiahao/xianglin/git_space/SafetyReasoningDataEvol/data/processed/circuitbreaker_train_yes.json\"\n",
    "\n",
    "import json\n",
    "with open(path, \"r\") as f:\n",
    "    data = json.load(f)\n",
    "\n",
    "data[0]"
   ]
  },
  {
   "cell_type": "code",
   "execution_count": null,
   "metadata": {},
   "outputs": [],
   "source": [
    "from src.evol.answers import adapt_scot_string_two_stage, extract_yes_categories\n",
    "evolved_answer = data[0]['evolved_answer']\n",
    "\n",
    "adapted_output = adapt_scot_string_two_stage(evolved_answer)\n",
    "# filter out full No answer\n",
    "extracted_categories = extract_yes_categories(adapted_output)\n",
    "print(\"Length of extracted categories:\", len(extracted_categories))\n",
    "print(\"Adapted output:\", adapted_output)\n"
   ]
  },
  {
   "cell_type": "code",
   "execution_count": 23,
   "metadata": {},
   "outputs": [],
   "source": [
    "for item in data:\n",
    "    evolved_answer = item['evolved_answer']\n",
    "    adapted_output = adapt_scot_string_two_stage(evolved_answer)\n",
    "    item['evolved_answer_modified'] = adapted_output\n"
   ]
  },
  {
   "cell_type": "code",
   "execution_count": 24,
   "metadata": {},
   "outputs": [],
   "source": [
    "# save\n",
    "with open(path, 'w') as f:\n",
    "    json.dump(data, f, indent=4)"
   ]
  },
  {
   "cell_type": "code",
   "execution_count": null,
   "metadata": {},
   "outputs": [],
   "source": [
    "import json\n",
    "dolly_path = \"/home/ljiahao/xianglin/git_space/SafetyReasoningDataEvol/data/processed/dolly_val_intention.json\"\n",
    "\n",
    "with open(dolly_path, 'r') as f:\n",
    "    dolly = json.load(f)\n",
    "\n",
    "dolly[0]"
   ]
  },
  {
   "cell_type": "code",
   "execution_count": null,
   "metadata": {},
   "outputs": [],
   "source": [
    "evolved_answer = dolly[0]['evolved_answer']\n",
    "intention = dolly[0]['intention'].split(\"The intent of the text is to \")[-1].split(\".\")[0]\n",
    "print(evolved_answer)"
   ]
  },
  {
   "cell_type": "code",
   "execution_count": null,
   "metadata": {},
   "outputs": [],
   "source": [
    "from src.evol.answers import adapt_scot_string_two_stage, extract_yes_categories\n",
    "adapted_output = adapt_scot_string_two_stage(evolved_answer, intention)\n",
    "# filter out full No answer\n",
    "extracted_categories = extract_yes_categories(adapted_output)\n",
    "print(\"Length of extracted categories:\", len(extracted_categories))\n",
    "print(\"Adapted output:\", adapted_output)"
   ]
  },
  {
   "cell_type": "code",
   "execution_count": 6,
   "metadata": {},
   "outputs": [],
   "source": [
    "new_dolly = []\n",
    "for item in dolly:\n",
    "    evolved_answer = item['evolved_answer']\n",
    "    intention = item['intention']\n",
    "    if type(intention) == list:\n",
    "        continue\n",
    "    intention = intention.split(\"The intent of the text is to \")[-1].split(\".\")[0]\n",
    "    adapted_output = adapt_scot_string_two_stage(evolved_answer, intention)\n",
    "    item['evolved_answer_modified'] = adapted_output\n",
    "    new_dolly.append(item)\n"
   ]
  },
  {
   "cell_type": "code",
   "execution_count": 7,
   "metadata": {},
   "outputs": [],
   "source": [
    "# save \n",
    "with open(dolly_path, 'w') as f:\n",
    "    json.dump(new_dolly, f, indent=4)\n",
    "\n"
   ]
  }
 ],
 "metadata": {
  "kernelspec": {
   "display_name": "llm",
   "language": "python",
   "name": "python3"
  },
  "language_info": {
   "codemirror_mode": {
    "name": "ipython",
    "version": 3
   },
   "file_extension": ".py",
   "mimetype": "text/x-python",
   "name": "python",
   "nbconvert_exporter": "python",
   "pygments_lexer": "ipython3",
   "version": "3.10.16"
  }
 },
 "nbformat": 4,
 "nbformat_minor": 2
}
