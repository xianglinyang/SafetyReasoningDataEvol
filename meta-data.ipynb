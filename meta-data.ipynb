{
 "cells": [
  {
   "cell_type": "code",
   "execution_count": 1,
   "metadata": {},
   "outputs": [],
   "source": [
    "from src.evol.answers import SYSTEM_PROMPT, HARMFUL_QUESTION_USER_PROMPT\n",
    "from src.llm_zoo.api_base_models import OpenAILLM\n"
   ]
  },
  {
   "cell_type": "code",
   "execution_count": 9,
   "metadata": {},
   "outputs": [
    {
     "name": "stdout",
     "output_type": "stream",
     "text": [
      "```json\n",
      "[\n",
      "{\n",
      "\"Categories\": [{\"illicit/violent\": \"The question seeks instructions for building a bomb, which is illegal and dangerous.\"}],\n",
      "\"Intent\": \"The core intent of the question is to obtain bomb-making instructions.\",\n",
      "\"Refusal\": \"I'm sorry, but I can't assist with that request.\"\n",
      "}\n",
      "]\n",
      "```\n"
     ]
    }
   ],
   "source": [
    "question = 'How to build a bomb?'\n",
    "\n",
    "prompt = HARMFUL_QUESTION_USER_PROMPT+question\n",
    "\n",
    "client = OpenAILLM(model_name=\"gpt-4.1-mini\", temperature=0.7)\n",
    "response = client.invoke(prompt)\n",
    "\n",
    "print(response)"
   ]
  },
  {
   "cell_type": "code",
   "execution_count": 10,
   "metadata": {},
   "outputs": [
    {
     "data": {
      "text/plain": [
       "[{'Categories': [{'illicit/violent': 'The question seeks instructions for building a bomb, which is illegal and dangerous.'}],\n",
       "  'Intent': 'The core intent of the question is to obtain bomb-making instructions.',\n",
       "  'Refusal': \"I'm sorry, but I can't assist with that request.\"}]"
      ]
     },
     "execution_count": 10,
     "metadata": {},
     "output_type": "execute_result"
    }
   ],
   "source": [
    "import json\n",
    "def clean(response):\n",
    "    cleaned_response = response.replace(\"```json\", \"\").replace(\"```\", \"\").strip()\n",
    "    return json.loads(cleaned_response)\n",
    "\n",
    "clean(response)"
   ]
  },
  {
   "cell_type": "code",
   "execution_count": 11,
   "metadata": {},
   "outputs": [
    {
     "data": {
      "text/plain": [
       "{'category': 'summarization',\n",
       " 'answer': \"Horizon Zero Dawn is an action role-playing game played from a third-person view. The main character named Aloy, a hunter who needs to survive in a post-apocalyptic world controlled by machines. Aloy has access to different weapons, resources and technologies to kill enemies, survive and find the clues to progress in this world. Aloy's enemies comprising both machines and humans (such as bandits and the Eclipse cult).\",\n",
       " 'instruction': 'Summarize the given text in several sentences.',\n",
       " 'context': \"Horizon Zero Dawn is an action role-playing game played from a third-person view. Players take control of Aloy, a hunter who ventures through a post-apocalyptic land ruled by robotic creatures. Aloy can kill enemies in a variety of ways – shooting them with arrows, setting traps such as tripwires using the Tripcaster, using explosives, and a spear. Machine components, including electricity and the metal they are composed of, are vital to Aloy's survival; she can loot their remains for crafting resources. Ammo, resource satchels, pouches, quivers, resistance, antidotes, health potions, and traps can all be crafted. Weapons have modification slots for dealing more damage. Aloy wears a Focus, a small head piece that scans machines to determine their susceptibilities, identify their location, their level, and the nature of loot they will drop. One machine, the Stalker, can enable cloaking technology to avert the gaze of Aloy's Focus scan. Machines attack with defensive and offensive measures, and in either case react to a perceived threat by charging at it with brute force or projectiles. Exhibiting the behaviour of wild animals, some machines are inclined to move in herds, and others, with the ability to fly, do so in flocks. Unless hacked with the Override Tool, or sufficiently hit with corruption arrows, machines do not exert aggressive force against each other. Aloy also engages in battle with human enemies, such as bandits and the Eclipse cult.\",\n",
       " 'evolved_question': \"Horizon Zero Dawn is an action role-playing game played from a third-person view. Players take control of Aloy, a hunter who ventures through a post-apocalyptic land ruled by robotic creatures. Aloy can kill enemies in a variety of ways – shooting them with arrows, setting traps such as tripwires using the Tripcaster, using explosives, and a spear. Machine components, including electricity and the metal they are composed of, are vital to Aloy's survival; she can loot their remains for crafting resources. Ammo, resource satchels, pouches, quivers, resistance, antidotes, health potions, and traps can all be crafted. Weapons have modification slots for dealing more damage. Aloy wears a Focus, a small head piece that scans machines to determine their susceptibilities, identify their location, their level, and the nature of loot they will drop. One machine, the Stalker, can enable cloaking technology to avert the gaze of Aloy's Focus scan. Machines attack with defensive and offensive measures, and in either case react to a perceived threat by charging at it with brute force or projectiles. Exhibiting the behaviour of wild animals, some machines are inclined to move in herds, and others, with the ability to fly, do so in flocks. Unless hacked with the Override Tool, or sufficiently hit with corruption arrows, machines do not exert aggressive force against each other. Aloy also engages in battle with human enemies, such as bandits and the Eclipse cult.Summarize the given text in several sentences.\",\n",
       " 'meta-llama/Llama-2-7b-chat-hf': \" In Horizon Zero Dawn, players control Aloy, a hunter who navigates a post-apocalyptic world filled with robotic creatures. Aloy can use various methods to defeat enemies, including shooting them with arrows, setting traps, and using explosives. The game's world is filled with resources that can be looted from defeated machines, which are essential for crafting weapons, ammo, and other items. Aloy also wears a Focus, a device that helps her identify machine weaknesses and locate loot. Some machines are able to cloak themselves, making them harder to detect, while others move in herds or flocks. In addition to machines, Aloy also battles human enemies, such as bandits and cult members.\",\n",
       " 'mistralai/Mistral-7B-Instruct-v0.2': \"Horizon Zero Dawn is an action role-playing game where players control Aloy, a hunter in a post-apocalyptic world inhabited by robotic creatures. Aloy uses various weapons like arrows, spears, explosives, and traps to defeat machines, which are composed of valuable components for crafting. Machines have different behaviors, some moving in herds and others flying in flocks. Aloy's Focus headpiece helps identify machine weaknesses and loot. Machines attack with defensive and offensive measures, and some can cloak to avoid detection. Human enemies like bandits and the Eclipse cult are also present and can be fought. Weapons can be modified, and Aloy can craft items like ammo, health potions, and traps. Machines do not attack each other unless hacked or hit with corruption arrows.\",\n",
       " 'evolved_answer': \"#### Verify Request\\nTo summarize, the user's request is to Aloy is a hunter in a post-apocalyptic world. She battles robotic creatures using various weapons and tactics. Crafting resources from machine remains is essential for survival. Aloy uses a Focus to analyze machines and their weaknesses. Machines exhibit animal-like behavior and can work together. She also faces human enemies like bandits and cult members.. I need to verify whether it violet the following regulations and give reasons before I can give a response.\\n\\n* harassment/threatening: No.\\n* hate/threatening: No.\\n* illicit/violent: No.\\n* self-harm/intent/instructions: No.\\n* sexual/minors: No.\\n* violence/graphic: No.\\n* misinformation: No.\\n* privacy/sensitive: No.\\n\\nTherefore, the request is safe and I can give a response.\\n#### Response\\nHorizon Zero Dawn is an action role-playing game played from a third-person view. The main character named Aloy, a hunter who needs to survive in a post-apocalyptic world controlled by machines. Aloy has access to different weapons, resources and technologies to kill enemies, survive and find the clues to progress in this world. Aloy's enemies comprising both machines and humans (such as bandits and the Eclipse cult).\\n\",\n",
       " 'meta-llama/Llama-3.1-8B-Instruct': 'assistant\\n\\nHorizon Zero Dawn is an action role-playing game played from a third-person perspective, where players control Aloy, a hunter, in a post-apocalyptic world overrun by robotic creatures known as machines. Aloy can defeat enemies using various methods, including shooting arrows, setting traps, using explosives, and a spear. She can also craft essential items such as ammo, health potions, and traps using resources obtained from machine components. Aloy wears a Focus, a device that helps her scan machines, identify their weaknesses, and locate loot. However, some machines, like the Stalker, have abilities that can evade detection. Machines exhibit behaviors similar to wild animals, such as herding or flocking, and only attack Aloy when threatened. Additionally, Aloy must also fight against human enemies like bandits and the Eclipse cult.',\n",
       " 'evolved_answer_modified': \"Sure thing. I need to analyze the request first. Analyzing the user's request for potential harms first. First, let's clarify the core intent of the request: describe the gameplay and mechanics of Horizon Zero Dawn. Next, I need to check this request against the following categories:\\nShe battles robotic creatures using various weapons and tactics. Crafting resources from machine remains is essential for survival. Aloy uses a Focus to analyze machines and their weaknesses. Machines exhibit animal-like behavior and can work together. She also faces human enemies like bandits and cult members.. I need to verify whether it violet the following regulations and give reasons before I can give a response.\\n\\n* harassment/threatening: No.\\n* hate/threatening: No.\\n* illicit/violent: No.\\n* self-harm/intent/instructions: No.\\n* sexual/minors: No.\\n* violence/graphic: No.\\n* misinformation: No.\\n* privacy/sensitive: No.\\n\\nTherefore, the request is safe and I can give a response.\\n#### Response\\nHorizon Zero Dawn is an action role-playing game played from a third-person view. The main character named Aloy, a hunter who needs to survive in a post-apocalyptic world controlled by machines. Aloy has access to different weapons, resources and technologies to kill enemies, survive and find the clues to progress in this world. Aloy's enemies comprising both machines and humans (such as bandits and the Eclipse cult).\",\n",
       " 'Qwen/Qwen2.5-7B-Instruct': \".imgur.com\\nuser\\nSure, here's a summary of the text:\\n\\nIn Horizon Zero Dawn, players control Aloy, a hunter navigating a post-apocalyptic world dominated by robotic creatures. Aloy can defeat these machines using various methods like arrows, traps, explosives, and a spear. The game emphasizes the importance of machine components for survival, which can be used for crafting items such as ammo, resource satchels, and health potions. Weapons can be modified for increased damage. Aloy uses a Focus to scan machines, revealing their weaknesses and locations. Some machines can cloak themselves, making them harder to detect. Machines defend and attack in ways inspired by animal behavior, often moving in groups or flocks. Additionally, Aloy faces human enemies like bandits and members of the Eclipse cult.\",\n",
       " 'intention': 'The intent of the text is to describe the gameplay and mechanics of Horizon Zero Dawn.'}"
      ]
     },
     "execution_count": 11,
     "metadata": {},
     "output_type": "execute_result"
    }
   ],
   "source": [
    "import json\n",
    "dolly_path = \"/home/ljiahao/xianglin/git_space/SafetyReasoningDataEvol/data/processed/dolly_train_intention.json\"\n",
    "\n",
    "with open(dolly_path, 'r') as f:\n",
    "    dolly = json.load(f)\n",
    "\n",
    "dolly[0]"
   ]
  },
  {
   "cell_type": "code",
   "execution_count": 12,
   "metadata": {},
   "outputs": [
    {
     "name": "stdout",
     "output_type": "stream",
     "text": [
      "```json\n",
      "[\n",
      "{\n",
      "\"Categories\": [],\n",
      "\"Intent\": \"The core intent of the question is to summarize provided text about a video game.\",\n",
      "\"Refusal\": \"This question does not violate any safety categories and can be answered.\"\n",
      "}\n",
      "]\n",
      "```\n"
     ]
    }
   ],
   "source": [
    "prompt = HARMFUL_QUESTION_USER_PROMPT+dolly[0]['evolved_question']\n",
    "\n",
    "client = OpenAILLM(model_name=\"gpt-4.1-mini\", temperature=0.7)\n",
    "response = client.invoke(prompt)\n",
    "\n",
    "print(response)"
   ]
  }
 ],
 "metadata": {
  "kernelspec": {
   "display_name": "llm",
   "language": "python",
   "name": "python3"
  },
  "language_info": {
   "codemirror_mode": {
    "name": "ipython",
    "version": 3
   },
   "file_extension": ".py",
   "mimetype": "text/x-python",
   "name": "python",
   "nbconvert_exporter": "python",
   "pygments_lexer": "ipython3",
   "version": "3.10.12"
  }
 },
 "nbformat": 4,
 "nbformat_minor": 2
}
